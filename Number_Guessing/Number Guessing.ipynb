{
 "cells": [
  {
   "cell_type": "markdown",
   "metadata": {},
   "source": [
    "Number Guessing between 1 & 20 with 5 chances"
   ]
  },
  {
   "cell_type": "code",
   "execution_count": null,
   "metadata": {},
   "outputs": [],
   "source": [
    "# number guessing game implementation using python \n",
    "import random \n",
    "print(\"Number guessing game\") \n",
    "\n",
    "# randint function to generate the random number between 1 and 20 \n",
    "number = random.randint(1, 20) \n",
    "\n",
    "# number of chances to be given to the user to guess the number are 5\n",
    "# while loop to count the number of chances \n",
    "chances = 0\n",
    "while chances < 5: \n",
    "    \n",
    "    # enter a number between 1 and 20 \n",
    "    guess = int(input(\"Guess a number between 1 and 20:\")) \n",
    "\n",
    "    # compare the user entered number with the number to be guessed \n",
    "    if guess == number: \n",
    "\n",
    "        # if number entered by user is same as the generated number by randint function then break from loop using loop control statement \"break\" \n",
    "        print(\"Congratulation YOU WON!!!\") \n",
    "        break\n",
    "\n",
    "    # check if the user entered number is smaller than the generated number \n",
    "    elif guess < number: \n",
    "        print(\"Your guess was too low: Guess a number higher than {}\".format(guess)) \n",
    "\n",
    "    # the user entered number is greater than the generated number\n",
    "    else: \n",
    "        print(\"Your guess was too high: Guess a number lower than {}\".format(guess)) \n",
    "\n",
    "    # increase the value of chance by 1 \n",
    "    chances += 1\n",
    "\n",
    "# when the user has guessed 5 times\n",
    "if chances >= 5: \n",
    "    print(\"YOU LOSE!!! The number is {}\".format(number))\n"
   ]
  }
 ],
 "metadata": {
  "kernelspec": {
   "display_name": "Python 3",
   "language": "python",
   "name": "python3"
  },
  "language_info": {
   "codemirror_mode": {
    "name": "ipython",
    "version": 3
   },
   "file_extension": ".py",
   "mimetype": "text/x-python",
   "name": "python",
   "nbconvert_exporter": "python",
   "pygments_lexer": "ipython3",
   "version": "3.7.6"
  }
 },
 "nbformat": 4,
 "nbformat_minor": 4
}
